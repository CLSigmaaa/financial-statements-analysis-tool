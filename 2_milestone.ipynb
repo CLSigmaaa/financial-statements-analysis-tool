{
 "cells": [
  {
   "cell_type": "code",
   "execution_count": 44,
   "metadata": {},
   "outputs": [],
   "source": [
    "%matplotlib widget\n",
    "import requests\n",
    "from bs4 import BeautifulSoup\n",
    "import matplotlib.pyplot as plt\n",
    "import pandas as pd\n",
    "import numpy as np\n",
    "import math\n",
    "import os"
   ]
  },
  {
   "cell_type": "code",
   "execution_count": 51,
   "metadata": {},
   "outputs": [],
   "source": [
    "class YahooCompanyScraper:\n",
    "    def __init__(self, company_symbol, output_folder=\"\") -> None:\n",
    "        self.company_symbol = company_symbol\n",
    "        self.base_url = \"https://fr.finance.yahoo.com/quote\"\n",
    "        self.df_financials = self.get_financials()\n",
    "        self.df_balance_sheet = self.get_balance_sheet()\n",
    "        self.df_cash_flow = self.get_cash_flow()\n",
    "        # self.best_cac40_symbols = [self.get_best_cac40_company_symbols()]\n",
    "        if output_folder:\n",
    "            self.output_folder = output_folder\n",
    "        else:\n",
    "            self.output_folder = f\"./{self.company_symbol}\"\n",
    "       \n",
    "    def get_financial_statement(self, financial_statement):\n",
    "        url = f\"{self.base_url}/{self.company_symbol}/{financial_statement}?p={self.company_symbol}\"\n",
    "        with requests.session():\n",
    "            header = {'Connection': 'keep-alive',\n",
    "                    'Expires': '-1',\n",
    "                    'Upgrade-Insecure-Requests': '1',\n",
    "                    'User-Agent': 'Mozilla/5.0 (Windows NT 10.0; WOW64) \\\n",
    "                    AppleWebKit/537.36 (KHTML, like Gecko) Chrome/54.0.2840.99 Safari/537.36'\n",
    "                    }\n",
    "            page = requests.get(url, headers=header)\n",
    "            soup = BeautifulSoup(page.content, 'html.parser')\n",
    "            table = soup.find_all('div', class_=\"M(0) Whs(n) BdEnd Bdc($seperatorColor) D(itb)\")\n",
    "            return table\n",
    "    \n",
    "    def get_headers(self, raw_financial_statement):\n",
    "        soup = BeautifulSoup(str(raw_financial_statement[0]), \"html.parser\")\n",
    "        raw_table_headers = soup.find(\"div\", class_=\"D(tbhg)\").find_all(\"span\")\n",
    "        \n",
    "        headers = [i.text for i in raw_table_headers]\n",
    "        self.financials_headers = headers[1:]\n",
    "        return headers[1:]\n",
    "    \n",
    "    def isStringNumber(self, string):\n",
    "        try:\n",
    "            string = int(string)\n",
    "            return True\n",
    "        except:\n",
    "            return False\n",
    "\n",
    "    def get_financial_statement_data(self, raw_financial_statement, financial_statement_headers):\n",
    "        res = {}\n",
    "        soup = BeautifulSoup(str(raw_financial_statement[0]), \"html.parser\")\n",
    "        cells = soup.find_all(\"div\", class_=\"D(tbc)\")\n",
    "        for i in range(0, len(cells), len(financial_statement_headers) + 1):\n",
    "            res[cells[i].text.replace('\\u202f', '')] = [cell.text.replace('\\u202f', '') for cell in cells[i+1:i+len(financial_statement_headers) + 1]]\n",
    "        return res\n",
    "    \n",
    "    def get_financials(self):\n",
    "        raw_financials = self.get_financial_statement(\"financials\")\n",
    "        raw_financials_headers = self.get_headers(raw_financials)\n",
    "        financials_data = self.get_financial_statement_data(raw_financials, raw_financials_headers)\n",
    "        df = pd.DataFrame(financials_data)\n",
    "        df = df.transpose()\n",
    "        df.columns = raw_financials_headers\n",
    "        df = df.rename_axis('Details')\n",
    "        df.replace({ '': math.nan })\n",
    "        return df\n",
    "    \n",
    "    def get_balance_sheet(self):\n",
    "        raw_balance_sheet = self.get_financial_statement(\"balance-sheet\")\n",
    "        raw_balance_sheet_headers = self.get_headers(raw_balance_sheet)\n",
    "        balance_sheet_data = self.get_financial_statement_data(raw_balance_sheet, raw_balance_sheet_headers)\n",
    "        df = pd.DataFrame(balance_sheet_data)\n",
    "        df = df.transpose()\n",
    "        df.columns = raw_balance_sheet_headers\n",
    "        df = df.rename_axis('Details')\n",
    "        df.replace({ '': math.nan })\n",
    "        return df\n",
    "    \n",
    "    def get_cash_flow(self):\n",
    "        raw_cash_flow = self.get_financial_statement(\"cash-flow\")\n",
    "        raw_cash_flow_headers = self.get_headers(raw_cash_flow)\n",
    "        cash_flow_data = self.get_financial_statement_data(raw_cash_flow, raw_cash_flow_headers)\n",
    "        df = pd.DataFrame(cash_flow_data)\n",
    "        df = df.transpose()\n",
    "        df.columns = raw_cash_flow_headers\n",
    "        df = df.rename_axis('Details')\n",
    "        df.replace({ '': math.nan })\n",
    "        return df\n",
    "    \n",
    "    def export_all_financial_statements(self):\n",
    "        self.create_output_folder(self.output_folder)\n",
    "        self.df_financials.to_csv(f\"{self.output_folder}/{self.company_symbol}_financials.csv\")\n",
    "        self.df_balance_sheet.to_csv(f\"{self.output_folder}/{self.company_symbol}_balance_sheet.csv\")\n",
    "        self.df_cash_flow.to_csv(f\"{self.output_folder}/{self.company_symbol}_cash_flow.csv\")\n",
    "    \n",
    "    def create_output_folder(self, path):\n",
    "        if not os.path.exists(path):\n",
    "            os.makedirs(path)\n",
    "        \n",
    "    \n",
    "    def refetch_data(self):\n",
    "        self.df_financials = self.get_financials()\n",
    "        self.df_balance_sheet = self.get_balance_sheet()\n",
    "        self.df_cash_flow = self.get_cash_flow()\n",
    "    \n",
    "    def get_best_cac40_company_symbols(self):\n",
    "        url = \"https://fr.finance.yahoo.com/quote/%5EFCHI/components?p=%5EFCHI\"\n",
    "        res = []\n",
    "        with requests.session():\n",
    "            header = {'Connection': 'keep-alive',\n",
    "                    'Expires': '-1',\n",
    "                    'Upgrade-Insecure-Requests': '1',\n",
    "                    'User-Agent': 'Mozilla/5.0 (Windows NT 10.0; WOW64) \\\n",
    "                    AppleWebKit/537.36 (KHTML, like Gecko) Chrome/54.0.2840.99 Safari/537.36'\n",
    "                    }\n",
    "            page = requests.get(url, headers=header)\n",
    "            soup = BeautifulSoup(page.content, 'html.parser')\n",
    "            table = soup.find_all('tr', class_=\"BdT Bdc($seperatorColor) Ta(end) Fz(s)\")\n",
    "            for row in table:\n",
    "                res.append(row.find_all('td', class_=\"Py(10px) Ta(start) Pend(10px)\")[0].text)\n",
    "            return res\n",
    "            "
   ]
  },
  {
   "cell_type": "code",
   "execution_count": 52,
   "metadata": {},
   "outputs": [],
   "source": [
    "Loreal = YahooCompanyScraper('OR.PA')\n"
   ]
  },
  {
   "cell_type": "code",
   "execution_count": 53,
   "metadata": {},
   "outputs": [],
   "source": [
    "Loreal.export_all_financial_statements()"
   ]
  },
  {
   "cell_type": "code",
   "execution_count": 31,
   "metadata": {},
   "outputs": [],
   "source": [
    "Loreal.df_financials.to_csv('Loreal.csv')"
   ]
  },
  {
   "cell_type": "code",
   "execution_count": 39,
   "metadata": {},
   "outputs": [
    {
     "name": "stdout",
     "output_type": "stream",
     "text": [
      "Error while fetching UG.PA\n",
      "Error while fetching FP.PA\n"
     ]
    }
   ],
   "source": [
    "cac40_symbols = Loreal.get_best_cac40_company_symbols()\n",
    "for symbol in cac40_symbols:\n",
    "    try:\n",
    "        company = YahooCompanyScraper(symbol)\n",
    "        company.export_all_financial_statements()\n",
    "    except:\n",
    "        print(f\"Error while fetching {symbol}\")"
   ]
  }
 ],
 "metadata": {
  "kernelspec": {
   "display_name": "Python 3",
   "language": "python",
   "name": "python3"
  },
  "language_info": {
   "codemirror_mode": {
    "name": "ipython",
    "version": 3
   },
   "file_extension": ".py",
   "mimetype": "text/x-python",
   "name": "python",
   "nbconvert_exporter": "python",
   "pygments_lexer": "ipython3",
   "version": "3.8.0"
  },
  "orig_nbformat": 4
 },
 "nbformat": 4,
 "nbformat_minor": 2
}
